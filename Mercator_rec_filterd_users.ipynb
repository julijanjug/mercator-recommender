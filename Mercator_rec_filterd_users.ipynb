{
 "cells": [
  {
   "cell_type": "code",
   "execution_count": 1,
   "metadata": {},
   "outputs": [],
   "source": [
    "#tu sem omejil na tiste kupili vec kot 12x in napovedal samo 10 izdelkov z najvisjo vrjetnostjo"
   ]
  },
  {
   "cell_type": "code",
   "execution_count": 2,
   "metadata": {},
   "outputs": [],
   "source": [
    "#importi\n",
    "import warnings\n",
    "warnings.filterwarnings(\"ignore\")\n",
    "\n",
    "import numpy as np\n",
    "import pandas as pd\n",
    "import lightgbm as lgb\n",
    "import matplotlib.pyplot as plt\n",
    "from datetime import date, timedelta\n",
    "import operator"
   ]
  },
  {
   "cell_type": "code",
   "execution_count": 3,
   "metadata": {},
   "outputs": [
    {
     "name": "stdout",
     "output_type": "stream",
     "text": [
      "loading artikli.csv...\n",
      "loading nakupi.csv...\n",
      "done\n"
     ]
    }
   ],
   "source": [
    "print(\"loading artikli.csv...\")\n",
    "products = pd.read_csv(\"Podatki/artikli.csv\", dtype={\n",
    "        'artikel': np.int32,\n",
    "        'naziv': 'category',\n",
    "        'neto_kolicina': np.float,\n",
    "        'em_net_kolicina': 'category',\n",
    "        'bz_naziv_osnovna': 'category',\n",
    "        'sbs_1': 'category',\n",
    "        'sbs_2': 'category',\n",
    "        'sbs_3': 'category',\n",
    "        'sbs_4': 'category',\n",
    "        'sbs_5': 'category',\n",
    "        'sbs_6': 'category',\n",
    "        'cat_1': 'category',\n",
    "        'cat_2': 'category',\n",
    "        'cat_3': 'category',\n",
    "        'cat_4': 'category'})\n",
    "\n",
    "parse_dates = ['datum']\n",
    "\n",
    "print(\"loading nakupi.csv...\")\n",
    "orders = pd.read_csv(\"Podatki/nakupi.csv\",dtype={ #nrows=500000\n",
    "        'kupec': np.uint32,\n",
    "        'st_racuna': np.uint32,\n",
    "        'artikel': np.uint32,\n",
    "        'letak': np.bool},\n",
    "        parse_dates=parse_dates)\n",
    "print(\"done\")"
   ]
  },
  {
   "cell_type": "code",
   "execution_count": 4,
   "metadata": {},
   "outputs": [],
   "source": [
    "valid_users = pd.DataFrame()\n",
    "\n",
    "valid_users['n_orders'] = orders.groupby('kupec')['st_racuna'].nunique()\n",
    "valid_users = valid_users.assign(is_valid=valid_users.n_orders > 6)\n",
    "orders = pd.merge(orders, valid_users, on='kupec')\n",
    "orders = orders.loc[orders['is_valid'] == True] # ali ima kupec dovolj nakupov /ostale izlocimo"
   ]
  },
  {
   "cell_type": "code",
   "execution_count": 5,
   "metadata": {},
   "outputs": [
    {
     "name": "stdout",
     "output_type": "stream",
     "text": [
      "Preparing data sets train/test...\n",
      "done\n"
     ]
    }
   ],
   "source": [
    "#Preparing data sets train/test\n",
    "print(\"Preparing data sets train/test...\")\n",
    "user_list = orders['kupec'].unique() # delitev 90% : 10%\n",
    "msk = np.random.rand(len(user_list)) < 0.9\n",
    "users_train = user_list[msk]\n",
    "users_test = user_list[~msk]\n",
    "\n",
    "tmp = pd.DataFrame()\n",
    "test = pd.DataFrame()\n",
    "orders['last_order'] = orders.groupby('kupec')['st_racuna'].transform(max)\n",
    "tmp = orders.assign(test=orders.st_racuna == orders.last_order)\n",
    "\n",
    "### TRAIN ###\n",
    "train_for_index = orders.set_index(['st_racuna', 'artikel'], inplace=False, drop=False) #tu ne odstranim po kupcih ker potrebujem vse pare nakup izdelek da vem modelu povedat kaj je potem dejansko kupil tisti train_index\n",
    "train = tmp.loc[tmp['test'] == False] # ali je zadnji nakup ali ne\n",
    "train = train.loc[train['kupec'].isin(users_train)] #filtrira na test/train\n",
    "#train = train.drop_duplicates(subset=['kupec'], keep='last', inplace=False)\n",
    "train.drop(train.columns[[1, 4, 5, 6]], axis=1, inplace=True)\n",
    "train.set_index(['st_racuna', 'artikel'], inplace=True, drop=False)\n",
    "\n",
    "train_last = tmp.loc[tmp['test'] == True]\n",
    "train_last = train_last.loc[train_last['kupec'].isin(users_train)] #filtrira na test/train\n",
    "#train_for_index = train_last.set_index(['st_racuna', 'artikel'], inplace=False, drop=False) #tu ne odstranim po kupcih ker potrebujem vse pare nakup izdelek da vem modelu povedat kaj je potem dejansko kupil tisti train_index\n",
    "train_last = train_last.drop_duplicates(subset='kupec')\n",
    "train_last.drop(train_last.columns[[1, 3, 4, 5, 6]], axis=1, inplace=True) \n",
    "train_last.set_index(['st_racuna'], inplace=True, drop=False)\n",
    "\n",
    "### TEST ###\n",
    "test = tmp.loc[tmp['test'] == False] # zadnji kupec ali ne\n",
    "test = test.loc[test['kupec'].isin(users_test)] # filtrira na test/train\n",
    "#test = test.drop_duplicates(subset=['kupec'], keep='last', inplace=False)\n",
    "test.drop(test.columns[[1, 4, 5, 6]], axis=1, inplace=True)\n",
    "test.set_index(['st_racuna', 'artikel'], inplace=True, drop=False)\n",
    "\n",
    "test_last = tmp.loc[tmp['test'] == True]\n",
    "test_last = test_last.loc[test_last['kupec'].isin(users_test)] #filtrira na test/train\n",
    "test_for_f1 = test_last\n",
    "test_last = test_last.drop(test_last.columns[[3, 4, 5, 6]], axis=1, inplace=False)\n",
    "test_last = test_last.drop_duplicates(subset='kupec')\n",
    "test_last.set_index(['st_racuna'], inplace=True, drop=False)\n",
    "\n",
    "#test_for_f1.drop(test_for_f1.columns[[1, 4, 5, 6]], axis=1, inplace=True)\n",
    "test_for_f1 = test_for_f1.groupby('st_racuna').agg({'artikel':lambda x: list(x), 'datum': 'first'}) # transforms real artikels to list\n",
    "print(\"done\")"
   ]
  },
  {
   "cell_type": "code",
   "execution_count": 6,
   "metadata": {},
   "outputs": [
    {
     "name": "stdout",
     "output_type": "stream",
     "text": [
      "calculating product features...\n",
      "done\n"
     ]
    }
   ],
   "source": [
    "### product features ###\n",
    "print(\"calculating product features...\")\n",
    "prodf = pd.DataFrame()\n",
    "prodf['orders'] = orders.groupby(orders.artikel).size().astype(np.int32) #number of orders\n",
    "newReorders = orders.groupby(['kupec', 'artikel']).size().reset_index(name='reordersUser').astype(np.float32)#number of reorders\n",
    "newReorders = newReorders[newReorders['reordersUser'] > 1]\n",
    "prodf['reorders'] = newReorders.groupby(['artikel'])['reordersUser'].sum().astype(np.float32)\n",
    "prodf = prodf.fillna(0)\n",
    "prodf['reorder_rate'] = (prodf.reorders / prodf.orders).astype(np.float32) # ratio of reorders\n",
    "products = products.join(prodf, on='artikel')\n",
    "products.set_index('artikel', drop=False, inplace=True)\n",
    "del prodf\n",
    "\n",
    "print(\"done\")"
   ]
  },
  {
   "cell_type": "code",
   "execution_count": 7,
   "metadata": {},
   "outputs": [
    {
     "data": {
      "text/html": [
       "<div>\n",
       "<style scoped>\n",
       "    .dataframe tbody tr th:only-of-type {\n",
       "        vertical-align: middle;\n",
       "    }\n",
       "\n",
       "    .dataframe tbody tr th {\n",
       "        vertical-align: top;\n",
       "    }\n",
       "\n",
       "    .dataframe thead th {\n",
       "        text-align: right;\n",
       "    }\n",
       "</style>\n",
       "<table border=\"1\" class=\"dataframe\">\n",
       "  <thead>\n",
       "    <tr style=\"text-align: right;\">\n",
       "      <th></th>\n",
       "      <th>artikel</th>\n",
       "      <th>naziv</th>\n",
       "      <th>neto_kolicina</th>\n",
       "      <th>em_neto_kolicina</th>\n",
       "      <th>bz_naziv_osnovna</th>\n",
       "      <th>sbs_1</th>\n",
       "      <th>sbs_2</th>\n",
       "      <th>sbs_3</th>\n",
       "      <th>sbs_4</th>\n",
       "      <th>sbs_5</th>\n",
       "      <th>sbs_6</th>\n",
       "      <th>cat_1</th>\n",
       "      <th>cat_2</th>\n",
       "      <th>cat_3</th>\n",
       "      <th>cat_4</th>\n",
       "      <th>orders</th>\n",
       "      <th>reorders</th>\n",
       "      <th>reorder_rate</th>\n",
       "    </tr>\n",
       "    <tr>\n",
       "      <th>artikel</th>\n",
       "      <th></th>\n",
       "      <th></th>\n",
       "      <th></th>\n",
       "      <th></th>\n",
       "      <th></th>\n",
       "      <th></th>\n",
       "      <th></th>\n",
       "      <th></th>\n",
       "      <th></th>\n",
       "      <th></th>\n",
       "      <th></th>\n",
       "      <th></th>\n",
       "      <th></th>\n",
       "      <th></th>\n",
       "      <th></th>\n",
       "      <th></th>\n",
       "      <th></th>\n",
       "      <th></th>\n",
       "    </tr>\n",
       "  </thead>\n",
       "  <tbody>\n",
       "    <tr>\n",
       "      <th>0</th>\n",
       "      <td>0</td>\n",
       "      <td>Rozine zlate odlično 250g KOS</td>\n",
       "      <td>0.25</td>\n",
       "      <td>KG</td>\n",
       "      <td>Odlično</td>\n",
       "      <td>03 Sadje in zelenjava</td>\n",
       "      <td>03-03 Sadje suho in oreščki</td>\n",
       "      <td>03-03-01 Konvencionalno suho sadje in oreščki</td>\n",
       "      <td>03-03-01-02 Suho sadje in oreščki - pakirano</td>\n",
       "      <td>03-03-01-02-01 Suho sadje pakirano</td>\n",
       "      <td>03-03-01-02-01-03 Rozine suhe pakirane</td>\n",
       "      <td>02 Sadje in zelenjava</td>\n",
       "      <td>0203 Suho sadje in zelenjava</td>\n",
       "      <td>020302 Suho sadje pak</td>\n",
       "      <td>02030203 Suhe rozine pakirane</td>\n",
       "      <td>859.0</td>\n",
       "      <td>387.0</td>\n",
       "      <td>0.450524</td>\n",
       "    </tr>\n",
       "  </tbody>\n",
       "</table>\n",
       "</div>"
      ],
      "text/plain": [
       "         artikel                          naziv  neto_kolicina  \\\n",
       "artikel                                                          \n",
       "0              0  Rozine zlate odlično 250g KOS           0.25   \n",
       "\n",
       "        em_neto_kolicina bz_naziv_osnovna                  sbs_1  \\\n",
       "artikel                                                            \n",
       "0                     KG          Odlično  03 Sadje in zelenjava   \n",
       "\n",
       "                               sbs_2  \\\n",
       "artikel                                \n",
       "0        03-03 Sadje suho in oreščki   \n",
       "\n",
       "                                                 sbs_3  \\\n",
       "artikel                                                  \n",
       "0        03-03-01 Konvencionalno suho sadje in oreščki   \n",
       "\n",
       "                                                sbs_4  \\\n",
       "artikel                                                 \n",
       "0        03-03-01-02 Suho sadje in oreščki - pakirano   \n",
       "\n",
       "                                      sbs_5  \\\n",
       "artikel                                       \n",
       "0        03-03-01-02-01 Suho sadje pakirano   \n",
       "\n",
       "                                          sbs_6                  cat_1  \\\n",
       "artikel                                                                  \n",
       "0        03-03-01-02-01-03 Rozine suhe pakirane  02 Sadje in zelenjava   \n",
       "\n",
       "                                cat_2                  cat_3  \\\n",
       "artikel                                                        \n",
       "0        0203 Suho sadje in zelenjava  020302 Suho sadje pak   \n",
       "\n",
       "                                 cat_4  orders  reorders  reorder_rate  \n",
       "artikel                                                                 \n",
       "0        02030203 Suhe rozine pakirane   859.0     387.0      0.450524  "
      ]
     },
     "execution_count": 7,
     "metadata": {},
     "output_type": "execute_result"
    }
   ],
   "source": [
    "products.head(1)"
   ]
  },
  {
   "cell_type": "code",
   "execution_count": 8,
   "metadata": {},
   "outputs": [
    {
     "name": "stdout",
     "output_type": "stream",
     "text": [
      "calculating user features...\n",
      "user f (19480, 9)\n",
      "done\n"
     ]
    }
   ],
   "source": [
    "### user features ###\n",
    "print(\"calculating user features...\")\n",
    "usr = pd.DataFrame()\n",
    "nc = orders.drop_duplicates(subset=['kupec', 'datum'])\n",
    "nc['previous_visit'] = nc.groupby(['kupec'])['datum'].shift()\n",
    "nc['days_bw_visits'] = nc['datum'] - nc['previous_visit']\n",
    "nc['days_bw_visits'] = nc['days_bw_visits'].apply(lambda x: x.days)\n",
    "usr['average_days_between_orders'] = nc.groupby('kupec')['days_bw_visits'].agg('mean') #average days between orders\n",
    "usr['nb_orders'] = orders.groupby('kupec')['st_racuna'].nunique().astype(np.int16) #number of orders\n",
    "usr['last_order'] = orders.groupby('kupec')['st_racuna'].max()\n",
    "\n",
    "\n",
    "users = pd.DataFrame()\n",
    "nc = orders.drop_duplicates(subset=['kupec', 'artikel'])\n",
    "users['total_items'] = orders.groupby(['kupec']).size() #total items bought by user\n",
    "users['all_products'] = orders.groupby('kupec').agg({'artikel':lambda x: set(x)}) #set of products(id) bought  by this user!!!\n",
    "users['total_distinct_items'] = users['all_products'].apply(len).astype(np.int16) #number of distinct items bought\n",
    "users['user_items_from_letak'] = orders.groupby(['kupec'])['letak'].sum().astype(np.int16) #koliko izdelkov je kupil iz letaka\n",
    "users['user_items_from_letak_ratio'] = users['user_items_from_letak']/users['total_items'] # koliko je razmerje izdelkov iz letaka ki jih  je kupil\n",
    "\n",
    "users = users.join(usr)\n",
    "del usr\n",
    "users['average_basket'] = (users.total_items / users.nb_orders).astype(np.float32) #avg number of items in order\n",
    "print('user f', users.shape)\n",
    "print(\"done\")"
   ]
  },
  {
   "cell_type": "code",
   "execution_count": 9,
   "metadata": {},
   "outputs": [
    {
     "data": {
      "text/html": [
       "<div>\n",
       "<style scoped>\n",
       "    .dataframe tbody tr th:only-of-type {\n",
       "        vertical-align: middle;\n",
       "    }\n",
       "\n",
       "    .dataframe tbody tr th {\n",
       "        vertical-align: top;\n",
       "    }\n",
       "\n",
       "    .dataframe thead th {\n",
       "        text-align: right;\n",
       "    }\n",
       "</style>\n",
       "<table border=\"1\" class=\"dataframe\">\n",
       "  <thead>\n",
       "    <tr style=\"text-align: right;\">\n",
       "      <th></th>\n",
       "      <th>total_items</th>\n",
       "      <th>all_products</th>\n",
       "      <th>total_distinct_items</th>\n",
       "      <th>user_items_from_letak</th>\n",
       "      <th>user_items_from_letak_ratio</th>\n",
       "      <th>average_days_between_orders</th>\n",
       "      <th>nb_orders</th>\n",
       "      <th>last_order</th>\n",
       "      <th>average_basket</th>\n",
       "    </tr>\n",
       "    <tr>\n",
       "      <th>kupec</th>\n",
       "      <th></th>\n",
       "      <th></th>\n",
       "      <th></th>\n",
       "      <th></th>\n",
       "      <th></th>\n",
       "      <th></th>\n",
       "      <th></th>\n",
       "      <th></th>\n",
       "      <th></th>\n",
       "    </tr>\n",
       "  </thead>\n",
       "  <tbody>\n",
       "    <tr>\n",
       "      <th>0</th>\n",
       "      <td>217</td>\n",
       "      <td>{6657, 2, 7, 7182, 2575, 17, 531, 25, 1564, 25...</td>\n",
       "      <td>147</td>\n",
       "      <td>21</td>\n",
       "      <td>0.096774</td>\n",
       "      <td>8.684211</td>\n",
       "      <td>22</td>\n",
       "      <td>875198</td>\n",
       "      <td>9.863636</td>\n",
       "    </tr>\n",
       "  </tbody>\n",
       "</table>\n",
       "</div>"
      ],
      "text/plain": [
       "       total_items                                       all_products  \\\n",
       "kupec                                                                   \n",
       "0              217  {6657, 2, 7, 7182, 2575, 17, 531, 25, 1564, 25...   \n",
       "\n",
       "       total_distinct_items  user_items_from_letak  \\\n",
       "kupec                                                \n",
       "0                       147                     21   \n",
       "\n",
       "       user_items_from_letak_ratio  average_days_between_orders  nb_orders  \\\n",
       "kupec                                                                        \n",
       "0                         0.096774                     8.684211         22   \n",
       "\n",
       "       last_order  average_basket  \n",
       "kupec                              \n",
       "0          875198        9.863636  "
      ]
     },
     "execution_count": 9,
     "metadata": {},
     "output_type": "execute_result"
    }
   ],
   "source": [
    "users.head(1)"
   ]
  },
  {
   "cell_type": "code",
   "execution_count": 10,
   "metadata": {},
   "outputs": [
    {
     "name": "stdout",
     "output_type": "stream",
     "text": [
      "calculating userXproduct features... slow...\n",
      "to dataframe (less memory)\n",
      "user X product f 3499008\n",
      "done\n"
     ]
    }
   ],
   "source": [
    "### userXproduct features ###\n",
    "\n",
    "print('calculating userXproduct features... slow...')\n",
    "orders['user_product'] = orders.artikel + orders.kupec * 100000 #user_product id\n",
    "orders['user_max_st_racuna'] = orders.groupby('kupec')['st_racuna'].transform(max)\n",
    "\n",
    "#make dict of user-product entitys (vsak par kupec-izdelek, pod pogojem da je sploh kupil izdelek 1x)\n",
    "d= dict()\n",
    "for row in orders.itertuples():\n",
    "    z = row.user_product\n",
    "    if z not in d:\n",
    "        d[z] = (1,\n",
    "                row.st_racuna,\n",
    "                1 if row.st_racuna > row.user_max_st_racuna-5 else 0)\n",
    "    else:\n",
    "        d[z] = (d[z][0] + 1,\n",
    "                max(d[z][1],row.st_racuna),\n",
    "                d[z][2]+1 if row.st_racuna > row.user_max_st_racuna-5 else d[z][2])\n",
    "\n",
    "print('to dataframe (less memory)')\n",
    "userXproduct = pd.DataFrame.from_dict(d, orient='index')\n",
    "del d\n",
    "userXproduct.columns = ['nb_orders', 'last_order_id', 'total_buys_n5']\n",
    "userXproduct.nb_orders = userXproduct.nb_orders.astype(np.int16)\n",
    "userXproduct.last_order_id = userXproduct.last_order_id.map(lambda x: x).astype(np.int32)\n",
    "userXproduct.total_buys_n5 = userXproduct.total_buys_n5.astype(np.int16)\n",
    "print('user X product f', len(userXproduct))\n",
    "\n",
    "print(\"done\")"
   ]
  },
  {
   "cell_type": "code",
   "execution_count": 11,
   "metadata": {},
   "outputs": [
    {
     "data": {
      "text/html": [
       "<div>\n",
       "<style scoped>\n",
       "    .dataframe tbody tr th:only-of-type {\n",
       "        vertical-align: middle;\n",
       "    }\n",
       "\n",
       "    .dataframe tbody tr th {\n",
       "        vertical-align: top;\n",
       "    }\n",
       "\n",
       "    .dataframe thead th {\n",
       "        text-align: right;\n",
       "    }\n",
       "</style>\n",
       "<table border=\"1\" class=\"dataframe\">\n",
       "  <thead>\n",
       "    <tr style=\"text-align: right;\">\n",
       "      <th></th>\n",
       "      <th>nb_orders</th>\n",
       "      <th>last_order_id</th>\n",
       "      <th>total_buys_n5</th>\n",
       "    </tr>\n",
       "  </thead>\n",
       "  <tbody>\n",
       "    <tr>\n",
       "      <th>21000000</th>\n",
       "      <td>1</td>\n",
       "      <td>0</td>\n",
       "      <td>0</td>\n",
       "    </tr>\n",
       "  </tbody>\n",
       "</table>\n",
       "</div>"
      ],
      "text/plain": [
       "          nb_orders  last_order_id  total_buys_n5\n",
       "21000000          1              0              0"
      ]
     },
     "execution_count": 11,
     "metadata": {},
     "output_type": "execute_result"
    }
   ],
   "source": [
    "userXproduct.head(1)"
   ]
  },
  {
   "cell_type": "code",
   "execution_count": 13,
   "metadata": {},
   "outputs": [
    {
     "name": "stdout",
     "output_type": "stream",
     "text": [
      "build candidate list\n",
      "order row 10000\n",
      "user related features\n",
      "order related features\n",
      "product related features\n",
      "user_X_product related features\n",
      "formating for lgb\n",
      "light GBM train :-)\n",
      "done\n"
     ]
    }
   ],
   "source": [
    "### build list of candidate products to reorder, with features ###\n",
    "\n",
    "def features(selected_orders, labels_given=False):\n",
    "    print('build candidate list')\n",
    "    order_list = []\n",
    "    product_list = []\n",
    "    labels = []\n",
    "    in_letak_list = []\n",
    "    train_index = set(train_for_index.index)  \n",
    "    i = 0 \n",
    "    for row in selected_orders.itertuples():\n",
    "        i+=1\n",
    "        if i%10000 == 0: print('order row',i)\n",
    "        user_id = row.kupec\n",
    "        order_id = row.st_racuna\n",
    "        user_prods = users['all_products'][user_id]\n",
    "        product_list += user_prods\n",
    "        order_list += [order_id] * len(user_prods)\n",
    "        if labels_given:\n",
    "            labels += [(order_id, prod) in train_index for prod in user_prods]\n",
    "        \n",
    "    df = pd.DataFrame({'order_id':order_list, 'product_id':product_list}, dtype=np.int32)\n",
    "    labels = np.array(labels, dtype=np.int8)\n",
    "    del order_list\n",
    "    del product_list\n",
    "    \n",
    "    print('user related features')\n",
    "    df['user_id'] = df.order_id.map(orders.kupec)\n",
    "    df['user_total_orders'] = df.user_id.map(users.nb_orders)\n",
    "    df['user_total_items'] = df.user_id.map(users.total_items)\n",
    "    df['total_distinct_items'] = df.user_id.map(users.total_distinct_items)\n",
    "    df['user_average_days_between_orders'] = df.user_id.map(users.average_days_between_orders)\n",
    "    df['user_average_basket'] =  df.user_id.map(users.average_basket)\n",
    "    df['user_last_order'] = df.user_id.map(users.last_order)\n",
    "    df['user_items_from_letak'] = df.user_id.map(users.user_items_from_letak)\n",
    "    df['user_items_from_letak_ratio'] = df.user_id.map(users.user_items_from_letak_ratio)\n",
    "    \n",
    "    print('order related features')\n",
    "    \n",
    "    print('product related features')\n",
    "    df['cat_1'] = df.product_id.map(products.cat_1)\n",
    "    df['cat_2'] = df.product_id.map(products.cat_2)\n",
    "    df['cat_3'] = df.product_id.map(products.cat_3)\n",
    "    df['cat_4'] = df.product_id.map(products.cat_4)\n",
    "    df['sbs_1'] = df.product_id.map(products.sbs_1)\n",
    "    df['sbs_2'] = df.product_id.map(products.sbs_2)\n",
    "    df['sbs_3'] = df.product_id.map(products.sbs_3)\n",
    "    df['sbs_4'] = df.product_id.map(products.sbs_4)\n",
    "    df['sbs_5'] = df.product_id.map(products.sbs_5)\n",
    "    df['sbs_6'] = df.product_id.map(products.sbs_6)\n",
    "    df['product_orders'] = df.product_id.map(products.orders).astype(np.int32)\n",
    "    df['product_reorders'] = df.product_id.map(products.reorders)\n",
    "    df['product_reorder_rate'] = df.product_id.map(products.reorder_rate)\n",
    "\n",
    "    print('user_X_product related features')\n",
    "    df['z'] = df.user_id * 100000 + df.product_id\n",
    "    df.drop(['user_id'], axis=1, inplace=True)\n",
    "    df['UP_orders'] = df.z.map(userXproduct.nb_orders)\n",
    "    df['UP_orders_ratio'] = (df.UP_orders / df.user_total_orders).astype(np.float32)\n",
    "    df['UP_total_buys_n5'] = df.z.map(userXproduct.total_buys_n5)\n",
    "\n",
    "    values = {'UP_orders': 0, 'UP_orders_ratio': 0, 'UP_total_buys_n5': 0}\n",
    "    df = df.fillna(value=values)\n",
    "    return (df, labels)\n",
    "    \n",
    "\n",
    "df_train, labels = features(train_last, labels_given=True)\n",
    "\n",
    "f_to_use = ['user_total_orders', 'user_total_items', 'total_distinct_items',\n",
    "       'user_average_days_between_orders', 'user_average_basket',\n",
    "        'user_items_from_letak', 'user_items_from_letak_ratio',\n",
    "        'cat_1','cat_2','cat_3','cat_4', 'sbs_1', 'sbs_2', 'sbs_3', 'sbs_4', 'sbs_5', 'sbs_6',\n",
    "        'product_orders', 'product_reorders',\n",
    "        'product_reorder_rate', 'UP_orders', 'UP_orders_ratio', 'UP_total_buys_n5']\n",
    "\n",
    "\n",
    "print('formating for lgb')\n",
    "d_train = lgb.Dataset(df_train[f_to_use],\n",
    "                      label=labels,\n",
    "                      categorical_feature=['cat_1', 'cat_2', 'cat_3', 'cat_4', 'sbs_1', 'sbs_2', 'sbs_3'\n",
    "                                           , 'sbs_4', 'sbs_5', 'sbs_6'])\n",
    "del df_train\n",
    "\n",
    "params = {\n",
    "    'task': 'train',\n",
    "    'boosting_type': 'gbdt', \n",
    "    'objective': 'binary',\n",
    "    'metric': {'binary_logloss'},\n",
    "    'max_depth': 8,\n",
    "    'num_leaves': 128, #256 ali 128\n",
    "    'min_data_in_leaf': 30, #512 ali 30\n",
    "    'max_bin': 32,\n",
    "    'learning_rate': 0.025,\n",
    "    'num_iterations': 600,\n",
    "    'feature_fraction': 0.6,\n",
    "    'bagging_fraction': 0.8,\n",
    "    'bagging_freq': 5,\n",
    "}\n",
    "#     'num_leaves': 96,\n",
    "#     'max_depth': 10,\n",
    "#     'bagging_fraction': 0.95,\n",
    "#     'bagging_freq': 5,\n",
    "ROUNDS = 120\n",
    "\n",
    "print('light GBM train :-)')\n",
    "bst = lgb.train(params, d_train, ROUNDS)\n",
    "#lgb.plot_importance(bst, figsize=(9,20)) #importance plot\n",
    "del d_train\n",
    "print(\"done\")"
   ]
  },
  {
   "cell_type": "code",
   "execution_count": 27,
   "metadata": {},
   "outputs": [
    {
     "data": {
      "text/plain": [
       "<matplotlib.axes._subplots.AxesSubplot at 0x127d2eba8>"
      ]
     },
     "execution_count": 27,
     "metadata": {},
     "output_type": "execute_result"
    },
    {
     "data": {
      "image/png": "[encoded data removed]",
      "text/plain": [
       "<Figure size 648x1440 with 1 Axes>"
      ]
     },
     "metadata": {
      "needs_background": "light"
     },
     "output_type": "display_data"
    }
   ],
   "source": [
    "lgb.plot_importance(bst, figsize=(9,20)) #importance plot"
   ]
  },
  {
   "cell_type": "code",
   "execution_count": 14,
   "metadata": {},
   "outputs": [
    {
     "name": "stdout",
     "output_type": "stream",
     "text": [
      "build candidate list\n",
      "user related features\n",
      "order related features\n",
      "product related features\n",
      "user_X_product related features\n",
      "light GBM predict\n",
      "done\n"
     ]
    }
   ],
   "source": [
    "### build candidates list for test ###\n",
    "\n",
    "df_test, _ = features(test_last)\n",
    "\n",
    "print('light GBM predict')\n",
    "preds = bst.predict(df_test[f_to_use])\n",
    "\n",
    "df_test['pred'] = preds\n",
    "\n",
    "TRESHOLD = 0.00 #0.07\n",
    "\n",
    "d = dict()\n",
    "for row in df_test.itertuples():\n",
    "    if row.pred > TRESHOLD:\n",
    "        try:\n",
    "            d[row.order_id].append((row.product_id, row.pred))\n",
    "        except:\n",
    "            d[row.order_id] = [(row.product_id, row.pred)]\n",
    "\n",
    "for order in test_last.st_racuna:\n",
    "    if order not in d:\n",
    "        d[order] = 'None'\n",
    "\n",
    "d_2 = dict()\n",
    "for key in d:\n",
    "    d_2[key] = str(d[key])\n",
    "sub = pd.DataFrame.from_dict(d_2, orient='index')\n",
    "\n",
    "sub.reset_index(inplace=True)\n",
    "sub.columns = ['st_racuna', 'artikli']\n",
    "sub.to_csv('my_sub.csv', index=False)\n",
    "print(\"done\")"
   ]
  },
  {
   "cell_type": "code",
   "execution_count": 15,
   "metadata": {},
   "outputs": [
    {
     "data": {
      "text/plain": [
       "(array([3.12019e+05, 4.15320e+04, 5.67700e+03, 1.11300e+03, 4.52000e+02,\n",
       "        3.39000e+02, 2.10000e+01, 3.00000e+00, 3.00000e+00, 5.00000e+00]),\n",
       " array([2.18118052e-04, 5.80348455e-02, 1.15851573e-01, 1.73668300e-01,\n",
       "        2.31485028e-01, 2.89301755e-01, 3.47118483e-01, 4.04935210e-01,\n",
       "        4.62751938e-01, 5.20568665e-01, 5.78385393e-01]),\n",
       " <a list of 10 Patch objects>)"
      ]
     },
     "execution_count": 15,
     "metadata": {},
     "output_type": "execute_result"
    },
    {
     "data": {
      "image/png": "[encoded data removed]",
      "text/plain": [
       "<Figure size 432x288 with 1 Axes>"
      ]
     },
     "metadata": {
      "needs_background": "light"
     },
     "output_type": "display_data"
    }
   ],
   "source": [
    "plt.hist(preds)"
   ]
  },
  {
   "cell_type": "code",
   "execution_count": 34,
   "metadata": {},
   "outputs": [
    {
     "name": "stdout",
     "output_type": "stream",
     "text": [
      "done\n"
     ]
    },
    {
     "data": {
      "text/plain": [
       "2013"
      ]
     },
     "execution_count": 34,
     "metadata": {},
     "output_type": "execute_result"
    }
   ],
   "source": [
    "### TESTING ####\n",
    "\n",
    "def eval_fun(labels, preds, st_racuna):\n",
    "    labels = labels\n",
    "    preds = d.get(st_racuna, [])\n",
    "    if preds != 'None':\n",
    "        preds.sort(key=lambda tup: tup[1], reverse=True)  # sorts in place\n",
    "    preds_top = []\n",
    "    for i in range(0,10):\n",
    "        if i < len(preds):\n",
    "            preds_top.append(preds[i][0])\n",
    "    rr = (np.intersect1d(labels, preds_top))\n",
    "    precision = np.float(len(rr)) / len(preds_top)\n",
    "    recall = np.float(len(rr)) / len(labels)\n",
    "    try:\n",
    "        f1 = 2 * precision * recall / (precision + recall)\n",
    "    except ZeroDivisionError:\n",
    "        return (precision, recall, 0.0)\n",
    "    return (precision, recall, f1)\n",
    "\n",
    "\n",
    "###########\n",
    "#test_for_f1['artikel'] = test_for_f1['artikel'].astype(str)\n",
    "cv_preds_df = pd.read_csv('my_sub.csv')\n",
    "cv_preds_df['artikli'] = cv_preds_df['artikli'].astype(str)\n",
    "test_for_f1 = pd.merge(test_for_f1, cv_preds_df, how='left', on='st_racuna')\n",
    "print(\"done\")\n",
    "len(test_for_f1)"
   ]
  },
  {
   "cell_type": "code",
   "execution_count": 35,
   "metadata": {},
   "outputs": [],
   "source": [
    "res = list()\n",
    "for entry in test_for_f1.itertuples():\n",
    "    res.append(eval_fun(entry[2], entry[4], entry[1]))\n",
    "\n",
    "res = pd.DataFrame(np.array(res), columns=['precision', 'recall', 'f1'])"
   ]
  },
  {
   "cell_type": "code",
   "execution_count": 36,
   "metadata": {},
   "outputs": [
    {
     "data": {
      "text/html": [
       "<div>\n",
       "<style scoped>\n",
       "    .dataframe tbody tr th:only-of-type {\n",
       "        vertical-align: middle;\n",
       "    }\n",
       "\n",
       "    .dataframe tbody tr th {\n",
       "        vertical-align: top;\n",
       "    }\n",
       "\n",
       "    .dataframe thead th {\n",
       "        text-align: right;\n",
       "    }\n",
       "</style>\n",
       "<table border=\"1\" class=\"dataframe\">\n",
       "  <thead>\n",
       "    <tr style=\"text-align: right;\">\n",
       "      <th></th>\n",
       "      <th>precision</th>\n",
       "      <th>recall</th>\n",
       "      <th>f1</th>\n",
       "    </tr>\n",
       "  </thead>\n",
       "  <tbody>\n",
       "    <tr>\n",
       "      <th>count</th>\n",
       "      <td>2013.000000</td>\n",
       "      <td>2013.000000</td>\n",
       "      <td>2013.000000</td>\n",
       "    </tr>\n",
       "    <tr>\n",
       "      <th>mean</th>\n",
       "      <td>0.134675</td>\n",
       "      <td>0.242453</td>\n",
       "      <td>0.151285</td>\n",
       "    </tr>\n",
       "    <tr>\n",
       "      <th>std</th>\n",
       "      <td>0.127211</td>\n",
       "      <td>0.262096</td>\n",
       "      <td>0.133290</td>\n",
       "    </tr>\n",
       "    <tr>\n",
       "      <th>min</th>\n",
       "      <td>0.000000</td>\n",
       "      <td>0.000000</td>\n",
       "      <td>0.000000</td>\n",
       "    </tr>\n",
       "    <tr>\n",
       "      <th>25%</th>\n",
       "      <td>0.000000</td>\n",
       "      <td>0.000000</td>\n",
       "      <td>0.000000</td>\n",
       "    </tr>\n",
       "    <tr>\n",
       "      <th>50%</th>\n",
       "      <td>0.100000</td>\n",
       "      <td>0.166667</td>\n",
       "      <td>0.142857</td>\n",
       "    </tr>\n",
       "    <tr>\n",
       "      <th>75%</th>\n",
       "      <td>0.200000</td>\n",
       "      <td>0.333333</td>\n",
       "      <td>0.235294</td>\n",
       "    </tr>\n",
       "    <tr>\n",
       "      <th>max</th>\n",
       "      <td>0.700000</td>\n",
       "      <td>1.000000</td>\n",
       "      <td>0.736842</td>\n",
       "    </tr>\n",
       "  </tbody>\n",
       "</table>\n",
       "</div>"
      ],
      "text/plain": [
       "         precision       recall           f1\n",
       "count  2013.000000  2013.000000  2013.000000\n",
       "mean      0.134675     0.242453     0.151285\n",
       "std       0.127211     0.262096     0.133290\n",
       "min       0.000000     0.000000     0.000000\n",
       "25%       0.000000     0.000000     0.000000\n",
       "50%       0.100000     0.166667     0.142857\n",
       "75%       0.200000     0.333333     0.235294\n",
       "max       0.700000     1.000000     0.736842"
      ]
     },
     "execution_count": 36,
     "metadata": {},
     "output_type": "execute_result"
    }
   ],
   "source": [
    "res.describe()"
   ]
  },
  {
   "cell_type": "code",
   "execution_count": 19,
   "metadata": {},
   "outputs": [],
   "source": [
    "### F-Score samo z izdelki iz letaka ###"
   ]
  },
  {
   "cell_type": "code",
   "execution_count": 20,
   "metadata": {},
   "outputs": [
    {
     "name": "stdout",
     "output_type": "stream",
     "text": [
      "Making letak dict...\n",
      "done\n"
     ]
    }
   ],
   "source": [
    "#naredimo dict z izdelki iz letaka\n",
    "print('Making letak dict...')\n",
    "letak_d= dict()\n",
    "for row in orders.itertuples():\n",
    "    datum = row.datum\n",
    "    if row.letak == True:\n",
    "        if datum.weekday() == 0:   #pon\n",
    "            datum = datum - timedelta(4)\n",
    "        elif datum.weekday() == 1: #tor\n",
    "            datum = datum - timedelta(5)\n",
    "        elif datum.weekday() == 2: #sre\n",
    "            datum = datum - timedelta(6)\n",
    "        elif datum.weekday() == 4: #pet\n",
    "            datum = datum - timedelta(1)\n",
    "        elif datum.weekday() == 5: #sob\n",
    "            datum = datum - timedelta(2)\n",
    "        elif datum.weekday() == 6: #ned\n",
    "            datum = datum - timedelta(3)\n",
    "        if datum.weekday() == 3:   #letak se začne s četrtkom\n",
    "            if datum not in letak_d:\n",
    "                letak_d[datum] = {row.artikel}\n",
    "            else:\n",
    "                letak_d[datum].add(row.artikel)\n",
    "print('done')"
   ]
  },
  {
   "cell_type": "code",
   "execution_count": 31,
   "metadata": {},
   "outputs": [],
   "source": [
    "def letak_eval_fun(labels, letak, st_racuna):\n",
    "    preds = d.get(st_racuna, [])\n",
    "    if preds != 'None':\n",
    "        preds.sort(key=lambda tup: tup[1], reverse=True)  # sorts in place\n",
    "    preds_top = []\n",
    "    for i in range(0,5):\n",
    "        if i < len(preds):\n",
    "            preds_top.append(preds[i][0])\n",
    "    preds_letak_top = (np.intersect1d(preds_top, letak))\n",
    "    rr = (np.intersect1d(labels, preds_letak_top))\n",
    "    precision = 0\n",
    "    recall = 0\n",
    "    try:\n",
    "        precision = np.float(len(rr)) / len(preds_letak_top)\n",
    "        recall = np.float(len(rr)) / len(labels)\n",
    "        f1 = 2 * precision * recall / (precision + recall)\n",
    "        #print(\"   p={0:.2f} r={0:.2f} f={0:.2f} preds: \".format(precision, recall, f1, preds) + str(rr))\n",
    "    except ZeroDivisionError:\n",
    "        return (precision, recall, 0.0)\n",
    "    return (precision, recall, f1)"
   ]
  },
  {
   "cell_type": "code",
   "execution_count": 32,
   "metadata": {},
   "outputs": [],
   "source": [
    "res_letak = list()\n",
    "for entry in test_for_f1.itertuples():\n",
    "    datum = entry[3] #datum\n",
    "    if datum.weekday() == 0:   #pon\n",
    "        datum = datum - timedelta(4)\n",
    "    elif datum.weekday() == 1: #tor\n",
    "        datum = datum - timedelta(5)\n",
    "    elif datum.weekday() == 2: #sre\n",
    "        datum = datum - timedelta(6)\n",
    "    elif datum.weekday() == 4: #pet\n",
    "        datum = datum - timedelta(1)\n",
    "    elif datum.weekday() == 5: #sob\n",
    "        datum = datum - timedelta(2)\n",
    "    elif datum.weekday() == 6: #ned\n",
    "        datum = datum - timedelta(3)\n",
    "    labels = entry[2]\n",
    "    preds = entry[4].split(' ')\n",
    "    st_racuna = entry[1]\n",
    "    letak = list(letak_d[datum])\n",
    "    labels_letak = (np.intersect1d(labels, letak))\n",
    "    preds_letak = (np.intersect1d(preds, letak))\n",
    "    \n",
    "    res_letak.append(letak_eval_fun(labels_letak, letak, st_racuna))\n",
    "\n",
    "res_letak = pd.DataFrame(np.array(res_letak), columns=['precision', 'recall', 'f1'])"
   ]
  },
  {
   "cell_type": "code",
   "execution_count": 33,
   "metadata": {},
   "outputs": [
    {
     "data": {
      "text/html": [
       "<div>\n",
       "<style scoped>\n",
       "    .dataframe tbody tr th:only-of-type {\n",
       "        vertical-align: middle;\n",
       "    }\n",
       "\n",
       "    .dataframe tbody tr th {\n",
       "        vertical-align: top;\n",
       "    }\n",
       "\n",
       "    .dataframe thead th {\n",
       "        text-align: right;\n",
       "    }\n",
       "</style>\n",
       "<table border=\"1\" class=\"dataframe\">\n",
       "  <thead>\n",
       "    <tr style=\"text-align: right;\">\n",
       "      <th></th>\n",
       "      <th>precision</th>\n",
       "      <th>recall</th>\n",
       "      <th>f1</th>\n",
       "    </tr>\n",
       "  </thead>\n",
       "  <tbody>\n",
       "    <tr>\n",
       "      <th>count</th>\n",
       "      <td>2013.000000</td>\n",
       "      <td>2013.000000</td>\n",
       "      <td>2013.000000</td>\n",
       "    </tr>\n",
       "    <tr>\n",
       "      <th>mean</th>\n",
       "      <td>0.174425</td>\n",
       "      <td>0.143948</td>\n",
       "      <td>0.143487</td>\n",
       "    </tr>\n",
       "    <tr>\n",
       "      <th>std</th>\n",
       "      <td>0.348934</td>\n",
       "      <td>0.308363</td>\n",
       "      <td>0.292482</td>\n",
       "    </tr>\n",
       "    <tr>\n",
       "      <th>min</th>\n",
       "      <td>0.000000</td>\n",
       "      <td>0.000000</td>\n",
       "      <td>0.000000</td>\n",
       "    </tr>\n",
       "    <tr>\n",
       "      <th>25%</th>\n",
       "      <td>0.000000</td>\n",
       "      <td>0.000000</td>\n",
       "      <td>0.000000</td>\n",
       "    </tr>\n",
       "    <tr>\n",
       "      <th>50%</th>\n",
       "      <td>0.000000</td>\n",
       "      <td>0.000000</td>\n",
       "      <td>0.000000</td>\n",
       "    </tr>\n",
       "    <tr>\n",
       "      <th>75%</th>\n",
       "      <td>0.000000</td>\n",
       "      <td>0.000000</td>\n",
       "      <td>0.000000</td>\n",
       "    </tr>\n",
       "    <tr>\n",
       "      <th>max</th>\n",
       "      <td>1.000000</td>\n",
       "      <td>1.000000</td>\n",
       "      <td>1.000000</td>\n",
       "    </tr>\n",
       "  </tbody>\n",
       "</table>\n",
       "</div>"
      ],
      "text/plain": [
       "         precision       recall           f1\n",
       "count  2013.000000  2013.000000  2013.000000\n",
       "mean      0.174425     0.143948     0.143487\n",
       "std       0.348934     0.308363     0.292482\n",
       "min       0.000000     0.000000     0.000000\n",
       "25%       0.000000     0.000000     0.000000\n",
       "50%       0.000000     0.000000     0.000000\n",
       "75%       0.000000     0.000000     0.000000\n",
       "max       1.000000     1.000000     1.000000"
      ]
     },
     "execution_count": 33,
     "metadata": {},
     "output_type": "execute_result"
    }
   ],
   "source": [
    "res_letak.describe()"
   ]
  },
  {
   "cell_type": "code",
   "execution_count": null,
   "metadata": {},
   "outputs": [],
   "source": []
  }
 ],
 "metadata": {
  "kernelspec": {
   "display_name": "Python 3",
   "language": "python",
   "name": "python3"
  },
  "language_info": {
   "codemirror_mode": {
    "name": "ipython",
    "version": 3
   },
   "file_extension": ".py",
   "mimetype": "text/x-python",
   "name": "python",
   "nbconvert_exporter": "python",
   "pygments_lexer": "ipython3",
   "version": "3.7.0"
  }
 },
 "nbformat": 4,
 "nbformat_minor": 2
}
