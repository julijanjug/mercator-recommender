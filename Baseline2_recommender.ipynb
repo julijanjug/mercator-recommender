{
 "cells": [
  {
   "cell_type": "code",
   "execution_count": 1,
   "metadata": {},
   "outputs": [],
   "source": [
    "### Baseline recommender - priporoča 15 najbolj prodajanih artiklov prejšnjega tedena (v skupnem)###\n",
    "# napovedujem samo nakupe v tednu 2018-06-27 do 2018-07-04"
   ]
  },
  {
   "cell_type": "code",
   "execution_count": 2,
   "metadata": {},
   "outputs": [],
   "source": [
    "#importi\n",
    "import warnings\n",
    "warnings.filterwarnings(\"ignore\")\n",
    "\n",
    "import numpy as np\n",
    "import pandas as pd\n",
    "import lightgbm as lgb\n",
    "import matplotlib.pyplot as plt\n",
    "from datetime import date, timedelta\n",
    "from collections import Counter"
   ]
  },
  {
   "cell_type": "code",
   "execution_count": 3,
   "metadata": {},
   "outputs": [
    {
     "name": "stdout",
     "output_type": "stream",
     "text": [
      "loading nakupi.csv...\n",
      "done\n"
     ]
    }
   ],
   "source": [
    "parse_dates = ['datum']\n",
    "print(\"loading nakupi.csv...\")\n",
    "orders = pd.read_csv(\"Podatki/nakupi.csv\", dtype={ #nrows=500000\n",
    "        'kupec': np.uint32,\n",
    "        'st_racuna': np.uint32,\n",
    "        'artikel': np.uint32,\n",
    "        'letak': np.bool},\n",
    "        parse_dates=parse_dates)\n",
    "print(\"done\")"
   ]
  },
  {
   "cell_type": "code",
   "execution_count": 4,
   "metadata": {},
   "outputs": [
    {
     "name": "stdout",
     "output_type": "stream",
     "text": [
      "Preparing data\n",
      "done\n"
     ]
    }
   ],
   "source": [
    "#Preparing data sets train/test\n",
    "print(\"Preparing data\")\n",
    "max_datum = orders['datum'].max()            \n",
    "\n",
    "tmp = pd.DataFrame()\n",
    "orders['last_order'] = orders.groupby('kupec')['st_racuna'].transform(max)\n",
    "tmp = orders.assign(last=orders.datum >= max_datum - timedelta(7)) #zadnji teden\n",
    "tmp = tmp.assign( manj_kot_14= tmp.datum >= max_datum - timedelta(14) )\n",
    "tmp = tmp.assign( vec_kot_7= tmp.datum < max_datum - timedelta(7) )\n",
    "tmp = tmp.assign( second_last= tmp.manj_kot_14 & tmp.vec_kot_7) #predzadnji teden\n",
    "\n",
    "### TEST ###\n",
    "test_second_last = tmp.loc[tmp['second_last'] == True] #  ostanejo samo predzadnji zadnji nakup ali ne\n",
    "test_second_last = test_second_last.groupby('kupec').agg({'artikel':lambda x: list(x)}) # transforms real artikels to list\n",
    "\n",
    "test_last = tmp.loc[tmp['last'] == True] # ostanejo samo zadni nakupi\n",
    "test_for_f1 = test_last.groupby('kupec').agg({'artikel':lambda x: list(x)}) # transforms real artikels to list\n",
    "print(\"done\")"
   ]
  },
  {
   "cell_type": "code",
   "execution_count": 5,
   "metadata": {},
   "outputs": [
    {
     "data": {
      "text/plain": [
       "Timestamp('2018-06-27 00:00:00')"
      ]
     },
     "execution_count": 5,
     "metadata": {},
     "output_type": "execute_result"
    }
   ],
   "source": [
    "max_datum - timedelta(7)"
   ]
  },
  {
   "cell_type": "code",
   "execution_count": 6,
   "metadata": {},
   "outputs": [
    {
     "data": {
      "text/plain": [
       "Timestamp('2018-07-04 00:00:00')"
      ]
     },
     "execution_count": 6,
     "metadata": {},
     "output_type": "execute_result"
    }
   ],
   "source": [
    "max_datum"
   ]
  },
  {
   "cell_type": "code",
   "execution_count": 7,
   "metadata": {},
   "outputs": [],
   "source": [
    "#naredimo count: dict z pogostostjo nakupa izdelka\n",
    "all_list = list()\n",
    "for entry in test_second_last.itertuples():\n",
    "    all_list += entry[1]\n",
    "\n",
    "count = Counter(all_list)"
   ]
  },
  {
   "cell_type": "code",
   "execution_count": 8,
   "metadata": {},
   "outputs": [
    {
     "data": {
      "text/plain": [
       "[2, 16, 440, 1042, 363, 441, 57, 256, 604, 824, 446, 34, 294, 1351, 74]"
      ]
     },
     "execution_count": 8,
     "metadata": {},
     "output_type": "execute_result"
    }
   ],
   "source": [
    "#naredimo seznam top 10 izdelkov prejšnjega tedna\n",
    "sorted_list = sorted(count.items(), key=lambda x: x[1], reverse=True)\n",
    "top_15 = list()\n",
    "\n",
    "for i in range(0, 15):\n",
    "    top_15.append(sorted_list[i][0])\n",
    "top_15"
   ]
  },
  {
   "cell_type": "code",
   "execution_count": 9,
   "metadata": {},
   "outputs": [
    {
     "data": {
      "text/html": [
       "<div>\n",
       "<style scoped>\n",
       "    .dataframe tbody tr th:only-of-type {\n",
       "        vertical-align: middle;\n",
       "    }\n",
       "\n",
       "    .dataframe tbody tr th {\n",
       "        vertical-align: top;\n",
       "    }\n",
       "\n",
       "    .dataframe thead th {\n",
       "        text-align: right;\n",
       "    }\n",
       "</style>\n",
       "<table border=\"1\" class=\"dataframe\">\n",
       "  <thead>\n",
       "    <tr style=\"text-align: right;\">\n",
       "      <th></th>\n",
       "      <th>artikel</th>\n",
       "    </tr>\n",
       "    <tr>\n",
       "      <th>kupec</th>\n",
       "      <th></th>\n",
       "    </tr>\n",
       "  </thead>\n",
       "  <tbody>\n",
       "    <tr>\n",
       "      <th>1</th>\n",
       "      <td>[247, 5438, 195, 4703, 4434, 3221, 5669, 4691,...</td>\n",
       "    </tr>\n",
       "    <tr>\n",
       "      <th>4</th>\n",
       "      <td>[227, 1351, 9191, 322, 4201]</td>\n",
       "    </tr>\n",
       "  </tbody>\n",
       "</table>\n",
       "</div>"
      ],
      "text/plain": [
       "                                                 artikel\n",
       "kupec                                                   \n",
       "1      [247, 5438, 195, 4703, 4434, 3221, 5669, 4691,...\n",
       "4                           [227, 1351, 9191, 322, 4201]"
      ]
     },
     "execution_count": 9,
     "metadata": {},
     "output_type": "execute_result"
    }
   ],
   "source": [
    "test_for_f1.head(2) #to so zadnji nakupi (torej nakupi v zadnjem tednu)"
   ]
  },
  {
   "cell_type": "code",
   "execution_count": 10,
   "metadata": {},
   "outputs": [
    {
     "name": "stdout",
     "output_type": "stream",
     "text": [
      "done\n"
     ]
    },
    {
     "data": {
      "text/plain": [
       "14771"
      ]
     },
     "execution_count": 10,
     "metadata": {},
     "output_type": "execute_result"
    }
   ],
   "source": [
    "### TESTING ####\n",
    "\n",
    "def eval_fun(labels, preds):\n",
    "    labels = labels\n",
    "    preds = preds#.split(' ')\n",
    "    rr = (np.intersect1d(labels, preds))\n",
    "    if isinstance(preds, float) :\n",
    "        return (0,0,0)\n",
    "    precision = np.float(len(rr)) / len(preds)\n",
    "    recall = np.float(len(rr)) / len(labels)\n",
    "    try:\n",
    "        f1 = 2 * precision * recall / (precision + recall)\n",
    "    except ZeroDivisionError:\n",
    "        return (precision, recall, 0.0)\n",
    "    return (precision, recall, f1)\n",
    "\n",
    "\n",
    "###########\n",
    "print(\"done\")\n",
    "len(test_for_f1)"
   ]
  },
  {
   "cell_type": "code",
   "execution_count": 11,
   "metadata": {},
   "outputs": [],
   "source": [
    "res = list()\n",
    "for entry in test_for_f1.itertuples():\n",
    "    #print(\"order:{} preds:{}\".format(entry[1], entry[2]))\n",
    "    res.append(eval_fun(entry[1], top_15))\n",
    "\n",
    "res = pd.DataFrame(np.array(res), columns=['precision', 'recall', 'f1'])"
   ]
  },
  {
   "cell_type": "code",
   "execution_count": 12,
   "metadata": {},
   "outputs": [
    {
     "data": {
      "text/html": [
       "<div>\n",
       "<style scoped>\n",
       "    .dataframe tbody tr th:only-of-type {\n",
       "        vertical-align: middle;\n",
       "    }\n",
       "\n",
       "    .dataframe tbody tr th {\n",
       "        vertical-align: top;\n",
       "    }\n",
       "\n",
       "    .dataframe thead th {\n",
       "        text-align: right;\n",
       "    }\n",
       "</style>\n",
       "<table border=\"1\" class=\"dataframe\">\n",
       "  <thead>\n",
       "    <tr style=\"text-align: right;\">\n",
       "      <th></th>\n",
       "      <th>precision</th>\n",
       "      <th>recall</th>\n",
       "      <th>f1</th>\n",
       "    </tr>\n",
       "  </thead>\n",
       "  <tbody>\n",
       "    <tr>\n",
       "      <th>count</th>\n",
       "      <td>14771.000000</td>\n",
       "      <td>14771.000000</td>\n",
       "      <td>14771.000000</td>\n",
       "    </tr>\n",
       "    <tr>\n",
       "      <th>mean</th>\n",
       "      <td>0.109968</td>\n",
       "      <td>0.091009</td>\n",
       "      <td>0.084659</td>\n",
       "    </tr>\n",
       "    <tr>\n",
       "      <th>std</th>\n",
       "      <td>0.105051</td>\n",
       "      <td>0.103576</td>\n",
       "      <td>0.072244</td>\n",
       "    </tr>\n",
       "    <tr>\n",
       "      <th>min</th>\n",
       "      <td>0.000000</td>\n",
       "      <td>0.000000</td>\n",
       "      <td>0.000000</td>\n",
       "    </tr>\n",
       "    <tr>\n",
       "      <th>25%</th>\n",
       "      <td>0.000000</td>\n",
       "      <td>0.000000</td>\n",
       "      <td>0.000000</td>\n",
       "    </tr>\n",
       "    <tr>\n",
       "      <th>50%</th>\n",
       "      <td>0.066667</td>\n",
       "      <td>0.071429</td>\n",
       "      <td>0.081081</td>\n",
       "    </tr>\n",
       "    <tr>\n",
       "      <th>75%</th>\n",
       "      <td>0.200000</td>\n",
       "      <td>0.125000</td>\n",
       "      <td>0.129032</td>\n",
       "    </tr>\n",
       "    <tr>\n",
       "      <th>max</th>\n",
       "      <td>0.733333</td>\n",
       "      <td>1.000000</td>\n",
       "      <td>0.476190</td>\n",
       "    </tr>\n",
       "  </tbody>\n",
       "</table>\n",
       "</div>"
      ],
      "text/plain": [
       "          precision        recall            f1\n",
       "count  14771.000000  14771.000000  14771.000000\n",
       "mean       0.109968      0.091009      0.084659\n",
       "std        0.105051      0.103576      0.072244\n",
       "min        0.000000      0.000000      0.000000\n",
       "25%        0.000000      0.000000      0.000000\n",
       "50%        0.066667      0.071429      0.081081\n",
       "75%        0.200000      0.125000      0.129032\n",
       "max        0.733333      1.000000      0.476190"
      ]
     },
     "execution_count": 12,
     "metadata": {},
     "output_type": "execute_result"
    }
   ],
   "source": [
    "res.describe()"
   ]
  }
 ],
 "metadata": {
  "kernelspec": {
   "display_name": "Python 3",
   "language": "python",
   "name": "python3"
  },
  "language_info": {
   "codemirror_mode": {
    "name": "ipython",
    "version": 3
   },
   "file_extension": ".py",
   "mimetype": "text/x-python",
   "name": "python",
   "nbconvert_exporter": "python",
   "pygments_lexer": "ipython3",
   "version": "3.7.0"
  }
 },
 "nbformat": 4,
 "nbformat_minor": 2
}
