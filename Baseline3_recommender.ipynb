{
 "cells": [
  {
   "cell_type": "code",
   "execution_count": 1,
   "metadata": {},
   "outputs": [],
   "source": [
    "### Baseline recommender - priporoči izdelke ki jih je kupec kupil en teden pred zadnim nakupom ###"
   ]
  },
  {
   "cell_type": "code",
   "execution_count": 2,
   "metadata": {},
   "outputs": [],
   "source": [
    "#importi\n",
    "import warnings\n",
    "warnings.filterwarnings(\"ignore\")\n",
    "\n",
    "import numpy as np\n",
    "import pandas as pd\n",
    "import lightgbm as lgb\n",
    "import matplotlib.pyplot as plt\n",
    "from datetime import date, timedelta\n",
    "import math"
   ]
  },
  {
   "cell_type": "code",
   "execution_count": 3,
   "metadata": {},
   "outputs": [
    {
     "name": "stdout",
     "output_type": "stream",
     "text": [
      "loading nakupi.csv...\n",
      "done\n"
     ]
    }
   ],
   "source": [
    "parse_dates = ['datum']\n",
    "print(\"loading nakupi.csv...\")\n",
    "orders = pd.read_csv(\"Podatki/nakupi.csv\", dtype={ #nrows=500000\n",
    "        'kupec': np.uint32,\n",
    "        'st_racuna': np.uint32,\n",
    "        'artikel': np.uint32,\n",
    "        'letak': np.bool},\n",
    "        parse_dates=parse_dates)\n",
    "print(\"done\")"
   ]
  },
  {
   "cell_type": "code",
   "execution_count": 4,
   "metadata": {},
   "outputs": [
    {
     "name": "stdout",
     "output_type": "stream",
     "text": [
      "Preparing data\n",
      "done\n"
     ]
    }
   ],
   "source": [
    "#Preparing data sets train/test\n",
    "print(\"Preparing data\")\n",
    "#max_datum = orders['datum'].max()            \n",
    "\n",
    "tmp = pd.DataFrame()\n",
    "orders['last_order_datum'] = orders.groupby('kupec')['datum'].transform(max)\n",
    "tmp = orders.assign(last=orders.datum >= orders.last_order_datum - timedelta(7)) #zadnji teden\n",
    "tmp = tmp.assign( manj_kot_14= tmp.datum >= orders.last_order_datum - timedelta(14) )\n",
    "tmp = tmp.assign( vec_kot_7= tmp.datum < orders.last_order_datum - timedelta(7) )\n",
    "tmp = tmp.assign( second_last= tmp.manj_kot_14 & tmp.vec_kot_7) #predzadnji teden\n",
    "\n",
    "### TEST ###\n",
    "test_second_last = tmp.loc[tmp['second_last'] == True] #  ostanejo samo predzadnji zadnji nakup ali ne\n",
    "test_second_last = test_second_last.groupby('kupec').agg({'artikel':lambda x: list(x)}) # transforms real artikels to list\n",
    "\n",
    "test_last = tmp.loc[tmp['last'] == True] # ostanejo samo zadni nakupi\n",
    "test_for_f1 = test_last.groupby('kupec').agg({'artikel':lambda x: list(x), 'datum': 'first'}) # transforms real artikels to list\n",
    "print(\"done\")"
   ]
  },
  {
   "cell_type": "code",
   "execution_count": 5,
   "metadata": {},
   "outputs": [
    {
     "name": "stdout",
     "output_type": "stream",
     "text": [
      "done\n"
     ]
    },
    {
     "data": {
      "text/plain": [
       "19650"
      ]
     },
     "execution_count": 5,
     "metadata": {},
     "output_type": "execute_result"
    }
   ],
   "source": [
    "### TESTING ####\n",
    "\n",
    "def eval_fun(labels, preds):\n",
    "    labels = labels\n",
    "    preds = preds#.split(' ')\n",
    "    rr = (np.intersect1d(labels, preds))\n",
    "    if isinstance(preds, float) :\n",
    "        return (0,0,0)\n",
    "    precision = np.float(len(rr)) / len(preds)\n",
    "    recall = np.float(len(rr)) / len(labels)\n",
    "    try:\n",
    "        f1 = 2 * precision * recall / (precision + recall)\n",
    "        #print(\"   p={0:.2f} r={0:.2f} f={0:.2f} preds: \".format(precision, recall, f1, preds) + str(rr))\n",
    "    except ZeroDivisionError:\n",
    "        return (precision, recall, 0.0)\n",
    "    return (precision, recall, f1)\n",
    "\n",
    "\n",
    "###########\n",
    "test_for_f1 = pd.merge(test_for_f1, test_second_last, how='left', on='kupec')\n",
    "print(\"done\")\n",
    "len(test_for_f1)"
   ]
  },
  {
   "cell_type": "code",
   "execution_count": 6,
   "metadata": {},
   "outputs": [],
   "source": [
    "res = list()\n",
    "for entry in test_for_f1.itertuples():\n",
    "    #print(\"order:{} preds:{}\".format(entry[1], entry[2]))\n",
    "    res.append(eval_fun(entry[1], entry[3]))\n",
    "\n",
    "res = pd.DataFrame(np.array(res), columns=['precision', 'recall', 'f1'])"
   ]
  },
  {
   "cell_type": "code",
   "execution_count": 7,
   "metadata": {},
   "outputs": [
    {
     "data": {
      "text/html": [
       "<div>\n",
       "<style scoped>\n",
       "    .dataframe tbody tr th:only-of-type {\n",
       "        vertical-align: middle;\n",
       "    }\n",
       "\n",
       "    .dataframe tbody tr th {\n",
       "        vertical-align: top;\n",
       "    }\n",
       "\n",
       "    .dataframe thead th {\n",
       "        text-align: right;\n",
       "    }\n",
       "</style>\n",
       "<table border=\"1\" class=\"dataframe\">\n",
       "  <thead>\n",
       "    <tr style=\"text-align: right;\">\n",
       "      <th></th>\n",
       "      <th>precision</th>\n",
       "      <th>recall</th>\n",
       "      <th>f1</th>\n",
       "    </tr>\n",
       "  </thead>\n",
       "  <tbody>\n",
       "    <tr>\n",
       "      <th>count</th>\n",
       "      <td>19650.000000</td>\n",
       "      <td>19650.000000</td>\n",
       "      <td>19650.000000</td>\n",
       "    </tr>\n",
       "    <tr>\n",
       "      <th>mean</th>\n",
       "      <td>0.134892</td>\n",
       "      <td>0.100344</td>\n",
       "      <td>0.101473</td>\n",
       "    </tr>\n",
       "    <tr>\n",
       "      <th>std</th>\n",
       "      <td>0.166469</td>\n",
       "      <td>0.125508</td>\n",
       "      <td>0.114356</td>\n",
       "    </tr>\n",
       "    <tr>\n",
       "      <th>min</th>\n",
       "      <td>0.000000</td>\n",
       "      <td>0.000000</td>\n",
       "      <td>0.000000</td>\n",
       "    </tr>\n",
       "    <tr>\n",
       "      <th>25%</th>\n",
       "      <td>0.000000</td>\n",
       "      <td>0.000000</td>\n",
       "      <td>0.000000</td>\n",
       "    </tr>\n",
       "    <tr>\n",
       "      <th>50%</th>\n",
       "      <td>0.086957</td>\n",
       "      <td>0.062500</td>\n",
       "      <td>0.076070</td>\n",
       "    </tr>\n",
       "    <tr>\n",
       "      <th>75%</th>\n",
       "      <td>0.227273</td>\n",
       "      <td>0.166667</td>\n",
       "      <td>0.179487</td>\n",
       "    </tr>\n",
       "    <tr>\n",
       "      <th>max</th>\n",
       "      <td>1.000000</td>\n",
       "      <td>1.000000</td>\n",
       "      <td>1.000000</td>\n",
       "    </tr>\n",
       "  </tbody>\n",
       "</table>\n",
       "</div>"
      ],
      "text/plain": [
       "          precision        recall            f1\n",
       "count  19650.000000  19650.000000  19650.000000\n",
       "mean       0.134892      0.100344      0.101473\n",
       "std        0.166469      0.125508      0.114356\n",
       "min        0.000000      0.000000      0.000000\n",
       "25%        0.000000      0.000000      0.000000\n",
       "50%        0.086957      0.062500      0.076070\n",
       "75%        0.227273      0.166667      0.179487\n",
       "max        1.000000      1.000000      1.000000"
      ]
     },
     "execution_count": 7,
     "metadata": {},
     "output_type": "execute_result"
    }
   ],
   "source": [
    "res.describe()"
   ]
  },
  {
   "cell_type": "code",
   "execution_count": 8,
   "metadata": {},
   "outputs": [],
   "source": [
    "### F-Score samo z izdelki iz letaka ###"
   ]
  },
  {
   "cell_type": "code",
   "execution_count": 9,
   "metadata": {},
   "outputs": [
    {
     "name": "stdout",
     "output_type": "stream",
     "text": [
      "Making letak dict...\n",
      "done\n"
     ]
    }
   ],
   "source": [
    "#naredimo dict z izdelki iz letaka\n",
    "print('Making letak dict...')\n",
    "letak_d= dict()\n",
    "for row in orders.itertuples():\n",
    "    datum = row.datum\n",
    "    if row.letak == True:\n",
    "        if datum.weekday() == 0:   #pon\n",
    "            datum = datum - timedelta(4)\n",
    "        elif datum.weekday() == 1: #tor\n",
    "            datum = datum - timedelta(5)\n",
    "        elif datum.weekday() == 2: #sre\n",
    "            datum = datum - timedelta(6)\n",
    "        elif datum.weekday() == 4: #pet\n",
    "            datum = datum - timedelta(1)\n",
    "        elif datum.weekday() == 5: #sob\n",
    "            datum = datum - timedelta(2)\n",
    "        elif datum.weekday() == 6: #ned\n",
    "            datum = datum - timedelta(3)\n",
    "        if datum.weekday() == 3:   #letak se začne s četrtkom\n",
    "            if datum not in letak_d:\n",
    "                letak_d[datum] = {row.artikel}\n",
    "            else:\n",
    "                letak_d[datum].add(row.artikel)\n",
    "print('done')"
   ]
  },
  {
   "cell_type": "code",
   "execution_count": 10,
   "metadata": {},
   "outputs": [],
   "source": [
    "def letak_eval_fun(labels, preds):\n",
    "    rr = (np.intersect1d(labels, preds))\n",
    "    precision = 0\n",
    "    recall = 0\n",
    "    try:\n",
    "        precision = np.float(len(rr)) / len(preds)\n",
    "        recall = np.float(len(rr)) / len(labels)\n",
    "        f1 = 2 * precision * recall / (precision + recall)\n",
    "        #print(\"   p={0:.2f} r={0:.2f} f={0:.2f} preds: \".format(precision, recall, f1, preds) + str(rr))\n",
    "    except ZeroDivisionError:\n",
    "        return (precision, recall, 0.0)\n",
    "    return (precision, recall, f1)"
   ]
  },
  {
   "cell_type": "code",
   "execution_count": 11,
   "metadata": {},
   "outputs": [],
   "source": [
    "res_letak = list()\n",
    "for entry in test_for_f1.itertuples():\n",
    "    datum = entry[2] #datum\n",
    "    if datum.weekday() == 0:   #pon\n",
    "        datum = datum - timedelta(4)\n",
    "    elif datum.weekday() == 1: #tor\n",
    "        datum = datum - timedelta(5)\n",
    "    elif datum.weekday() == 2: #sre\n",
    "        datum = datum - timedelta(6)\n",
    "    elif datum.weekday() == 4: #pet\n",
    "        datum = datum - timedelta(1)\n",
    "    elif datum.weekday() == 5: #sob\n",
    "        datum = datum - timedelta(2)\n",
    "    elif datum.weekday() == 6: #ned\n",
    "        datum = datum - timedelta(3)\n",
    "    labels = entry[1]\n",
    "    preds = entry[3]\n",
    "    letak = list(letak_d[datum])\n",
    "    labels_letak = (np.intersect1d(labels, letak))\n",
    "    preds_letak = (np.intersect1d(preds, letak))\n",
    "\n",
    "    res_letak.append(letak_eval_fun(labels_letak, preds_letak))\n",
    "\n",
    "res_letak = pd.DataFrame(np.array(res_letak), columns=['precision', 'recall', 'f1'])"
   ]
  },
  {
   "cell_type": "code",
   "execution_count": 12,
   "metadata": {},
   "outputs": [
    {
     "data": {
      "text/html": [
       "<div>\n",
       "<style scoped>\n",
       "    .dataframe tbody tr th:only-of-type {\n",
       "        vertical-align: middle;\n",
       "    }\n",
       "\n",
       "    .dataframe tbody tr th {\n",
       "        vertical-align: top;\n",
       "    }\n",
       "\n",
       "    .dataframe thead th {\n",
       "        text-align: right;\n",
       "    }\n",
       "</style>\n",
       "<table border=\"1\" class=\"dataframe\">\n",
       "  <thead>\n",
       "    <tr style=\"text-align: right;\">\n",
       "      <th></th>\n",
       "      <th>precision</th>\n",
       "      <th>recall</th>\n",
       "      <th>f1</th>\n",
       "    </tr>\n",
       "  </thead>\n",
       "  <tbody>\n",
       "    <tr>\n",
       "      <th>count</th>\n",
       "      <td>19650.000000</td>\n",
       "      <td>19650.000000</td>\n",
       "      <td>19650.000000</td>\n",
       "    </tr>\n",
       "    <tr>\n",
       "      <th>mean</th>\n",
       "      <td>0.098746</td>\n",
       "      <td>0.081576</td>\n",
       "      <td>0.077564</td>\n",
       "    </tr>\n",
       "    <tr>\n",
       "      <th>std</th>\n",
       "      <td>0.240925</td>\n",
       "      <td>0.203369</td>\n",
       "      <td>0.182041</td>\n",
       "    </tr>\n",
       "    <tr>\n",
       "      <th>min</th>\n",
       "      <td>0.000000</td>\n",
       "      <td>0.000000</td>\n",
       "      <td>0.000000</td>\n",
       "    </tr>\n",
       "    <tr>\n",
       "      <th>25%</th>\n",
       "      <td>0.000000</td>\n",
       "      <td>0.000000</td>\n",
       "      <td>0.000000</td>\n",
       "    </tr>\n",
       "    <tr>\n",
       "      <th>50%</th>\n",
       "      <td>0.000000</td>\n",
       "      <td>0.000000</td>\n",
       "      <td>0.000000</td>\n",
       "    </tr>\n",
       "    <tr>\n",
       "      <th>75%</th>\n",
       "      <td>0.000000</td>\n",
       "      <td>0.000000</td>\n",
       "      <td>0.000000</td>\n",
       "    </tr>\n",
       "    <tr>\n",
       "      <th>max</th>\n",
       "      <td>1.000000</td>\n",
       "      <td>1.000000</td>\n",
       "      <td>1.000000</td>\n",
       "    </tr>\n",
       "  </tbody>\n",
       "</table>\n",
       "</div>"
      ],
      "text/plain": [
       "          precision        recall            f1\n",
       "count  19650.000000  19650.000000  19650.000000\n",
       "mean       0.098746      0.081576      0.077564\n",
       "std        0.240925      0.203369      0.182041\n",
       "min        0.000000      0.000000      0.000000\n",
       "25%        0.000000      0.000000      0.000000\n",
       "50%        0.000000      0.000000      0.000000\n",
       "75%        0.000000      0.000000      0.000000\n",
       "max        1.000000      1.000000      1.000000"
      ]
     },
     "execution_count": 12,
     "metadata": {},
     "output_type": "execute_result"
    }
   ],
   "source": [
    "res_letak.describe()"
   ]
  },
  {
   "cell_type": "code",
   "execution_count": null,
   "metadata": {},
   "outputs": [],
   "source": []
  }
 ],
 "metadata": {
  "kernelspec": {
   "display_name": "Python 3",
   "language": "python",
   "name": "python3"
  },
  "language_info": {
   "codemirror_mode": {
    "name": "ipython",
    "version": 3
   },
   "file_extension": ".py",
   "mimetype": "text/x-python",
   "name": "python",
   "nbconvert_exporter": "python",
   "pygments_lexer": "ipython3",
   "version": "3.7.0"
  }
 },
 "nbformat": 4,
 "nbformat_minor": 2
}
