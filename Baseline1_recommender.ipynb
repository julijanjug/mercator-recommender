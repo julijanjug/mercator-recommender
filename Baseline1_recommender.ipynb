{
 "cells": [
  {
   "cell_type": "code",
   "execution_count": 1,
   "metadata": {},
   "outputs": [],
   "source": [
    "### Baseline recommender - napove izdelke ki jih je kupec kupil v redzadnjem nakupu ###"
   ]
  },
  {
   "cell_type": "code",
   "execution_count": 2,
   "metadata": {},
   "outputs": [],
   "source": [
    "#importi\n",
    "import warnings\n",
    "warnings.filterwarnings(\"ignore\")\n",
    "\n",
    "import numpy as np\n",
    "import pandas as pd\n",
    "import lightgbm as lgb\n",
    "import matplotlib.pyplot as plt"
   ]
  },
  {
   "cell_type": "code",
   "execution_count": 3,
   "metadata": {},
   "outputs": [
    {
     "name": "stdout",
     "output_type": "stream",
     "text": [
      "loading nakupi.csv...\n",
      "done\n"
     ]
    }
   ],
   "source": [
    "parse_dates = ['datum']\n",
    "\n",
    "print(\"loading nakupi.csv...\")\n",
    "orders = pd.read_csv(\"Podatki/nakupi.csv\",dtype={ #nrows=500000\n",
    "        'kupec': np.uint32,\n",
    "        'st_racuna': np.uint32,\n",
    "        'artikel': np.uint32,\n",
    "        'letak': np.bool},\n",
    "        parse_dates=parse_dates)\n",
    "print(\"done\")"
   ]
  },
  {
   "cell_type": "code",
   "execution_count": 4,
   "metadata": {},
   "outputs": [
    {
     "name": "stdout",
     "output_type": "stream",
     "text": [
      "Preparing data\n",
      "done\n"
     ]
    }
   ],
   "source": [
    "#Preparing data sets train/test\n",
    "print(\"Preparing data\")\n",
    "\n",
    "tmp = pd.DataFrame()\n",
    "orders['last_order'] = orders.groupby('kupec')['st_racuna'].transform(max)\n",
    "tmp = orders.assign(last=orders.st_racuna == orders.last_order)\n",
    "tmp = tmp.assign(second_last=orders.st_racuna == orders.last_order-1)\n",
    "\n",
    "### TEST ###\n",
    "test_second_last = tmp.loc[tmp['second_last'] == True] #  ostanejo samo predzadnji zadnji nakup ali ne\n",
    "test_second_last = test_second_last.groupby('kupec').agg({'artikel':lambda x: list(x)}) # transforms real artikels to list\n",
    "\n",
    "test_last = tmp.loc[tmp['last'] == True] # ostanejo samo zadni nakupi\n",
    "test_for_f1 = test_last.groupby('kupec').agg({'artikel':lambda x: list(x)}) # transforms real artikels to list\n",
    "print(\"done\")"
   ]
  },
  {
   "cell_type": "code",
   "execution_count": 5,
   "metadata": {},
   "outputs": [
    {
     "data": {
      "text/html": [
       "<div>\n",
       "<style scoped>\n",
       "    .dataframe tbody tr th:only-of-type {\n",
       "        vertical-align: middle;\n",
       "    }\n",
       "\n",
       "    .dataframe tbody tr th {\n",
       "        vertical-align: top;\n",
       "    }\n",
       "\n",
       "    .dataframe thead th {\n",
       "        text-align: right;\n",
       "    }\n",
       "</style>\n",
       "<table border=\"1\" class=\"dataframe\">\n",
       "  <thead>\n",
       "    <tr style=\"text-align: right;\">\n",
       "      <th></th>\n",
       "      <th>artikel</th>\n",
       "    </tr>\n",
       "    <tr>\n",
       "      <th>kupec</th>\n",
       "      <th></th>\n",
       "    </tr>\n",
       "  </thead>\n",
       "  <tbody>\n",
       "    <tr>\n",
       "      <th>0</th>\n",
       "      <td>[440, 1503, 1652, 1328, 1586, 5826, 271, 2364,...</td>\n",
       "    </tr>\n",
       "    <tr>\n",
       "      <th>1</th>\n",
       "      <td>[247, 5438, 195, 4703, 4434, 3221, 5669, 115]</td>\n",
       "    </tr>\n",
       "    <tr>\n",
       "      <th>2</th>\n",
       "      <td>[34, 4512, 968, 1632, 5216, 1945, 2513, 497, 1...</td>\n",
       "    </tr>\n",
       "    <tr>\n",
       "      <th>3</th>\n",
       "      <td>[3026, 3022, 1582, 12549, 60, 2419]</td>\n",
       "    </tr>\n",
       "    <tr>\n",
       "      <th>4</th>\n",
       "      <td>[1351, 604, 4282, 53]</td>\n",
       "    </tr>\n",
       "  </tbody>\n",
       "</table>\n",
       "</div>"
      ],
      "text/plain": [
       "                                                 artikel\n",
       "kupec                                                   \n",
       "0      [440, 1503, 1652, 1328, 1586, 5826, 271, 2364,...\n",
       "1          [247, 5438, 195, 4703, 4434, 3221, 5669, 115]\n",
       "2      [34, 4512, 968, 1632, 5216, 1945, 2513, 497, 1...\n",
       "3                    [3026, 3022, 1582, 12549, 60, 2419]\n",
       "4                                  [1351, 604, 4282, 53]"
      ]
     },
     "execution_count": 5,
     "metadata": {},
     "output_type": "execute_result"
    }
   ],
   "source": [
    "test_second_last.head(5)"
   ]
  },
  {
   "cell_type": "code",
   "execution_count": 6,
   "metadata": {},
   "outputs": [
    {
     "data": {
      "text/html": [
       "<div>\n",
       "<style scoped>\n",
       "    .dataframe tbody tr th:only-of-type {\n",
       "        vertical-align: middle;\n",
       "    }\n",
       "\n",
       "    .dataframe tbody tr th {\n",
       "        vertical-align: top;\n",
       "    }\n",
       "\n",
       "    .dataframe thead th {\n",
       "        text-align: right;\n",
       "    }\n",
       "</style>\n",
       "<table border=\"1\" class=\"dataframe\">\n",
       "  <thead>\n",
       "    <tr style=\"text-align: right;\">\n",
       "      <th></th>\n",
       "      <th>artikel</th>\n",
       "    </tr>\n",
       "    <tr>\n",
       "      <th>kupec</th>\n",
       "      <th></th>\n",
       "    </tr>\n",
       "  </thead>\n",
       "  <tbody>\n",
       "    <tr>\n",
       "      <th>0</th>\n",
       "      <td>[4294, 1119, 2203, 1506, 6406, 1226, 2575, 158...</td>\n",
       "    </tr>\n",
       "    <tr>\n",
       "      <th>1</th>\n",
       "      <td>[4691]</td>\n",
       "    </tr>\n",
       "    <tr>\n",
       "      <th>2</th>\n",
       "      <td>[877, 3688, 9521, 9005, 124, 4512, 41, 10780, ...</td>\n",
       "    </tr>\n",
       "    <tr>\n",
       "      <th>3</th>\n",
       "      <td>[5428, 1582, 6274, 397, 15612, 2245, 3022, 55,...</td>\n",
       "    </tr>\n",
       "    <tr>\n",
       "      <th>4</th>\n",
       "      <td>[227, 1351, 9191, 322, 4201]</td>\n",
       "    </tr>\n",
       "  </tbody>\n",
       "</table>\n",
       "</div>"
      ],
      "text/plain": [
       "                                                 artikel\n",
       "kupec                                                   \n",
       "0      [4294, 1119, 2203, 1506, 6406, 1226, 2575, 158...\n",
       "1                                                 [4691]\n",
       "2      [877, 3688, 9521, 9005, 124, 4512, 41, 10780, ...\n",
       "3      [5428, 1582, 6274, 397, 15612, 2245, 3022, 55,...\n",
       "4                           [227, 1351, 9191, 322, 4201]"
      ]
     },
     "execution_count": 6,
     "metadata": {},
     "output_type": "execute_result"
    }
   ],
   "source": [
    "test_for_f1.head(5)"
   ]
  },
  {
   "cell_type": "code",
   "execution_count": 7,
   "metadata": {},
   "outputs": [
    {
     "name": "stdout",
     "output_type": "stream",
     "text": [
      "done\n"
     ]
    },
    {
     "data": {
      "text/plain": [
       "19650"
      ]
     },
     "execution_count": 7,
     "metadata": {},
     "output_type": "execute_result"
    }
   ],
   "source": [
    "### TESTING ####\n",
    "\n",
    "def eval_fun(labels, preds):\n",
    "    labels = labels\n",
    "    preds = preds#.split(' ')\n",
    "    rr = (np.intersect1d(labels, preds))\n",
    "    precision = np.float(len(rr)) / len(preds)\n",
    "    recall = np.float(len(rr)) / len(labels)\n",
    "    try:\n",
    "        f1 = 2 * precision * recall / (precision + recall)\n",
    "        #print(\"   p={0:.2f} r={0:.2f} f={0:.2f} preds: \".format(precision, recall, f1, preds) + str(rr))\n",
    "    except ZeroDivisionError:\n",
    "        return (precision, recall, 0.0)\n",
    "    return (precision, recall, f1)\n",
    "\n",
    "\n",
    "###########\n",
    "test_for_f1 = pd.merge(test_for_f1, test_second_last, how='left', on='kupec')\n",
    "print(\"done\")\n",
    "len(test_for_f1)"
   ]
  },
  {
   "cell_type": "code",
   "execution_count": 8,
   "metadata": {},
   "outputs": [
    {
     "data": {
      "text/html": [
       "<div>\n",
       "<style scoped>\n",
       "    .dataframe tbody tr th:only-of-type {\n",
       "        vertical-align: middle;\n",
       "    }\n",
       "\n",
       "    .dataframe tbody tr th {\n",
       "        vertical-align: top;\n",
       "    }\n",
       "\n",
       "    .dataframe thead th {\n",
       "        text-align: right;\n",
       "    }\n",
       "</style>\n",
       "<table border=\"1\" class=\"dataframe\">\n",
       "  <thead>\n",
       "    <tr style=\"text-align: right;\">\n",
       "      <th></th>\n",
       "      <th>artikel_x</th>\n",
       "      <th>artikel_y</th>\n",
       "    </tr>\n",
       "    <tr>\n",
       "      <th>kupec</th>\n",
       "      <th></th>\n",
       "      <th></th>\n",
       "    </tr>\n",
       "  </thead>\n",
       "  <tbody>\n",
       "    <tr>\n",
       "      <th>0</th>\n",
       "      <td>[4294, 1119, 2203, 1506, 6406, 1226, 2575, 158...</td>\n",
       "      <td>[440, 1503, 1652, 1328, 1586, 5826, 271, 2364,...</td>\n",
       "    </tr>\n",
       "    <tr>\n",
       "      <th>1</th>\n",
       "      <td>[4691]</td>\n",
       "      <td>[247, 5438, 195, 4703, 4434, 3221, 5669, 115]</td>\n",
       "    </tr>\n",
       "    <tr>\n",
       "      <th>2</th>\n",
       "      <td>[877, 3688, 9521, 9005, 124, 4512, 41, 10780, ...</td>\n",
       "      <td>[34, 4512, 968, 1632, 5216, 1945, 2513, 497, 1...</td>\n",
       "    </tr>\n",
       "    <tr>\n",
       "      <th>3</th>\n",
       "      <td>[5428, 1582, 6274, 397, 15612, 2245, 3022, 55,...</td>\n",
       "      <td>[3026, 3022, 1582, 12549, 60, 2419]</td>\n",
       "    </tr>\n",
       "    <tr>\n",
       "      <th>4</th>\n",
       "      <td>[227, 1351, 9191, 322, 4201]</td>\n",
       "      <td>[1351, 604, 4282, 53]</td>\n",
       "    </tr>\n",
       "  </tbody>\n",
       "</table>\n",
       "</div>"
      ],
      "text/plain": [
       "                                               artikel_x  \\\n",
       "kupec                                                      \n",
       "0      [4294, 1119, 2203, 1506, 6406, 1226, 2575, 158...   \n",
       "1                                                 [4691]   \n",
       "2      [877, 3688, 9521, 9005, 124, 4512, 41, 10780, ...   \n",
       "3      [5428, 1582, 6274, 397, 15612, 2245, 3022, 55,...   \n",
       "4                           [227, 1351, 9191, 322, 4201]   \n",
       "\n",
       "                                               artikel_y  \n",
       "kupec                                                     \n",
       "0      [440, 1503, 1652, 1328, 1586, 5826, 271, 2364,...  \n",
       "1          [247, 5438, 195, 4703, 4434, 3221, 5669, 115]  \n",
       "2      [34, 4512, 968, 1632, 5216, 1945, 2513, 497, 1...  \n",
       "3                    [3026, 3022, 1582, 12549, 60, 2419]  \n",
       "4                                  [1351, 604, 4282, 53]  "
      ]
     },
     "execution_count": 8,
     "metadata": {},
     "output_type": "execute_result"
    }
   ],
   "source": [
    "test_for_f1.head(5) #artikel_x=labels, artikel_y=preds"
   ]
  },
  {
   "cell_type": "code",
   "execution_count": 9,
   "metadata": {},
   "outputs": [],
   "source": [
    "res = list()\n",
    "for entry in test_for_f1.itertuples():\n",
    "    #print(\"order:{} preds:{}\".format(entry[1], entry[2]))\n",
    "    res.append(eval_fun(entry[1], entry[2]))\n",
    "\n",
    "res = pd.DataFrame(np.array(res), columns=['precision', 'recall', 'f1'])"
   ]
  },
  {
   "cell_type": "code",
   "execution_count": 10,
   "metadata": {},
   "outputs": [
    {
     "data": {
      "text/html": [
       "<div>\n",
       "<style scoped>\n",
       "    .dataframe tbody tr th:only-of-type {\n",
       "        vertical-align: middle;\n",
       "    }\n",
       "\n",
       "    .dataframe tbody tr th {\n",
       "        vertical-align: top;\n",
       "    }\n",
       "\n",
       "    .dataframe thead th {\n",
       "        text-align: right;\n",
       "    }\n",
       "</style>\n",
       "<table border=\"1\" class=\"dataframe\">\n",
       "  <thead>\n",
       "    <tr style=\"text-align: right;\">\n",
       "      <th></th>\n",
       "      <th>precision</th>\n",
       "      <th>recall</th>\n",
       "      <th>f1</th>\n",
       "    </tr>\n",
       "  </thead>\n",
       "  <tbody>\n",
       "    <tr>\n",
       "      <th>count</th>\n",
       "      <td>19650.000000</td>\n",
       "      <td>19650.000000</td>\n",
       "      <td>19650.000000</td>\n",
       "    </tr>\n",
       "    <tr>\n",
       "      <th>mean</th>\n",
       "      <td>0.096010</td>\n",
       "      <td>0.096174</td>\n",
       "      <td>0.084006</td>\n",
       "    </tr>\n",
       "    <tr>\n",
       "      <th>std</th>\n",
       "      <td>0.174843</td>\n",
       "      <td>0.175351</td>\n",
       "      <td>0.143900</td>\n",
       "    </tr>\n",
       "    <tr>\n",
       "      <th>min</th>\n",
       "      <td>0.000000</td>\n",
       "      <td>0.000000</td>\n",
       "      <td>0.000000</td>\n",
       "    </tr>\n",
       "    <tr>\n",
       "      <th>25%</th>\n",
       "      <td>0.000000</td>\n",
       "      <td>0.000000</td>\n",
       "      <td>0.000000</td>\n",
       "    </tr>\n",
       "    <tr>\n",
       "      <th>50%</th>\n",
       "      <td>0.000000</td>\n",
       "      <td>0.000000</td>\n",
       "      <td>0.000000</td>\n",
       "    </tr>\n",
       "    <tr>\n",
       "      <th>75%</th>\n",
       "      <td>0.142857</td>\n",
       "      <td>0.142857</td>\n",
       "      <td>0.142857</td>\n",
       "    </tr>\n",
       "    <tr>\n",
       "      <th>max</th>\n",
       "      <td>1.000000</td>\n",
       "      <td>1.000000</td>\n",
       "      <td>1.000000</td>\n",
       "    </tr>\n",
       "  </tbody>\n",
       "</table>\n",
       "</div>"
      ],
      "text/plain": [
       "          precision        recall            f1\n",
       "count  19650.000000  19650.000000  19650.000000\n",
       "mean       0.096010      0.096174      0.084006\n",
       "std        0.174843      0.175351      0.143900\n",
       "min        0.000000      0.000000      0.000000\n",
       "25%        0.000000      0.000000      0.000000\n",
       "50%        0.000000      0.000000      0.000000\n",
       "75%        0.142857      0.142857      0.142857\n",
       "max        1.000000      1.000000      1.000000"
      ]
     },
     "execution_count": 10,
     "metadata": {},
     "output_type": "execute_result"
    }
   ],
   "source": [
    "res.describe()"
   ]
  }
 ],
 "metadata": {
  "kernelspec": {
   "display_name": "Python 3",
   "language": "python",
   "name": "python3"
  },
  "language_info": {
   "codemirror_mode": {
    "name": "ipython",
    "version": 3
   },
   "file_extension": ".py",
   "mimetype": "text/x-python",
   "name": "python",
   "nbconvert_exporter": "python",
   "pygments_lexer": "ipython3",
   "version": "3.7.0"
  }
 },
 "nbformat": 4,
 "nbformat_minor": 2
}
